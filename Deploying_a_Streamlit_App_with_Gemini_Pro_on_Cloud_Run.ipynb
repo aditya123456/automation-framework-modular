{
  "nbformat": 4,
  "nbformat_minor": 0,
  "metadata": {
    "colab": {
      "provenance": [],
      "private_outputs": true,
      "include_colab_link": true
    },
    "kernelspec": {
      "name": "python3",
      "display_name": "Python 3"
    },
    "language_info": {
      "name": "python"
    }
  },
  "cells": [
    {
      "cell_type": "markdown",
      "metadata": {
        "id": "view-in-github",
        "colab_type": "text"
      },
      "source": [
        "<a href=\"https://colab.research.google.com/github/aditya123456/automation-framework-modular/blob/main/Deploying_a_Streamlit_App_with_Gemini_Pro_on_Cloud_Run.ipynb\" target=\"_parent\"><img src=\"https://colab.research.google.com/assets/colab-badge.svg\" alt=\"Open In Colab\"/></a>"
      ]
    },
    {
      "cell_type": "markdown",
      "source": [
        "# Deploying a Streamlit App with Gemini Pro on Cloud Run\n",
        "\n",
        "Lab link - # https://bit.ly/pune-genai-lab\n",
        "---\n",
        "\n",
        "\n",
        "# Overview\n",
        "This Colab notebook guides you through integrating the Vertex AI Gemini API with applications and deploying a Streamlit application on Google Cloud Run.\n",
        "\n",
        "Gemini Pro, part of Google DeepMind's generative AI models, supports natural language tasks, multiturn text, code chat, and code generation, alongside multimodal prompts with its Vision model.\n",
        "\n",
        "\n",
        "# Gemini\n",
        "Gemini is a family of generative AI models developed by Google DeepMind that is designed for multimodal use cases. The Gemini API gives you access to the Gemini Pro Vision and Gemini Pro models.\n",
        "\n",
        "\n",
        "# Vertex AI Gemini API\n",
        "The Vertex AI Gemini API provides a unified interface for interacting with Gemini models. There are currently two models available in the Gemini API:\n",
        "\n",
        "**Gemini Pro model** (`gemini-pro`): Designed to handle natural language tasks, multiturn text and code chat, and code generation.\n",
        "\n",
        "\n",
        "**Gemini Pro Vision model** (`gemini-pro-vision`): Supports multimodal prompts. You can include text, images, and video in your prompt requests and get text or code responses.\n",
        "\n",
        "\n",
        "\n",
        "You can interact with the Gemini API using the following methods:\n",
        "\n",
        "\n",
        "*   Use the [Vertex AI Studio](https://cloud.google.com/generative-ai-studio?hl=en) for quick testing and command generation\n",
        "*   Use cURL commands\n",
        "*   Use the Vertex AI SDK\n",
        "\n",
        "This lab focuses on using the **Vertex AI SDK for Python** to call the Vertex AI Gemini API.\n",
        "\n",
        "\n",
        "For more information, see the [Generative AI on Vertex AI](https://cloud.google.com/vertex-ai/docs/generative-ai/learn/overview) documentation.\n",
        "\n",
        "---\n",
        "\n",
        "\n",
        "\n",
        "# Objectives\n",
        "\n",
        "*   Understand the integration of the Vertex AI Gemini API into a [Streamlit](https://streamlit.io/) application.\n",
        "*   Build and deploy the application on Google Cloud Run.\n",
        "\n",
        "---\n",
        "\n",
        "# Prerequisites\n",
        "Before starting, ensure you have access to a Google Cloud account and the `gcloud` CLI is configured for your project.\n",
        "\n",
        "To smoothly proceed with deploying a Streamlit app integrated with Gemini Pro on Google Cloud Run, complete the following prerequisite step:\n",
        "\n",
        "*   **Google Cloud Project:** Have a Google Cloud project created and selected in your Google Cloud Console. If you haven't done this, visit the [Google Cloud Console](https://console.cloud.google.com/) to create a new project.\n",
        "\n",
        "\n",
        "*  **Billing Enabled:** Ensure your Google Cloud project has billing enabled. Visit the [Billing section](https://console.cloud.google.com/billing) of the Google Cloud Console to verify or set up your billing account.\n",
        "\n",
        "\n",
        "Follow the presentation in this link to enable billing for today's workshop - [Enable billing](https://bit.ly/genai-demo-pune)\n",
        "\n",
        "\n",
        "---\n",
        "\n",
        "# Setup\n",
        "Before starting, ensure you have access to a Google Cloud account and the `gcloud` CLI is configured for your project."
      ],
      "metadata": {
        "id": "nPi-D7BPTpa8"
      }
    },
    {
      "cell_type": "markdown",
      "source": [
        "# Step 1: Clone the Repository\n",
        "Clone the repository containing the sample Streamlit application integrated with the Gemini Pro API."
      ],
      "metadata": {
        "id": "7fJ4WxsXV-A_"
      }
    },
    {
      "cell_type": "code",
      "source": [
        "#!git clone https://github.com/GoogleCloudPlatform/generative-ai.git\n",
        "!git clone https://github.com/jitu028/generative-ai.git\n",
        "%ls"
      ],
      "metadata": {
        "id": "RZWrYjjoWhC-"
      },
      "execution_count": null,
      "outputs": []
    },
    {
      "cell_type": "markdown",
      "source": [
        "# Step 2: Set Up Virtual Environment and Dependencies\n",
        "Create a Python virtual environment and install the required dependencies."
      ],
      "metadata": {
        "id": "u5UPZM6mWt23"
      }
    },
    {
      "cell_type": "code",
      "source": [
        "!apt install python3.10-venv -q\n",
        "!python3 -m venv gemini-streamlit\n",
        "!source gemini-streamlit/bin/activate"
      ],
      "metadata": {
        "id": "FUPBxAiyW2k-"
      },
      "execution_count": null,
      "outputs": []
    },
    {
      "cell_type": "markdown",
      "source": [
        "# Step 3: Set Environment Variables\n",
        "Configure the required environment variables for your Google Cloud project and region."
      ],
      "metadata": {
        "id": "ijq-Kq56W8nF"
      }
    },
    {
      "cell_type": "code",
      "source": [
        "import os\n",
        "\n",
        "# Replace 'your-project-id' with your Google Cloud project ID\n",
        "\n",
        "#os.environ['GCP_PROJECT'] = 'your-project-id'\n",
        "os.environ['GCP_PROJECT'] = 'gcp-demo-028'\n",
        "os.environ['GCP_REGION'] = 'us-central1'\n"
      ],
      "metadata": {
        "id": "0M2IuvK7XChw"
      },
      "execution_count": null,
      "outputs": []
    },
    {
      "cell_type": "markdown",
      "source": [
        "# Step 4: Install Required Tools\n",
        "Ensure you have the gcloud and gsutil command-line tools installed and authenticated. This setup is crucial for deploying applications on Google Cloud Platform."
      ],
      "metadata": {
        "id": "5OTJQefSgXQt"
      }
    },
    {
      "cell_type": "code",
      "source": [
        "#@title Authenticate with Google Cloud and your project ID\n",
        "\n",
        "from google.colab import auth\n",
        "\n",
        "gcp_project_id = 'gcp-demo-028' # @param {type: \"string\"} # replace 'you-project-id' with your project id\n",
        "\n",
        "auth.authenticate_user(project_id=gcp_project_id)\n",
        "\n",
        "# Install Google Cloud SDK (Skip if already installed)\n",
        "!curl https://sdk.cloud.google.com | bash\n",
        "\n",
        "# Initialize gcloud (Skip if already configured)\n",
        "!gcloud init\n",
        "\n",
        "#Enable required APIs - Cloud Run, Artifact Registry, and Cloud Build APIs for your project by running the following command, replace \"your-project-id\" with your actual project ID:\n",
        "!gcloud services enable run.googleapis.com artifactregistry.googleapis.com cloudbuild.googleapis.com --project=$gcp_project_id"
      ],
      "metadata": {
        "id": "Gx8H5rOSV088"
      },
      "execution_count": null,
      "outputs": []
    },
    {
      "cell_type": "markdown",
      "source": [
        "# Step 5: Run the Application Locally\n",
        "Start the Streamlit application locally to test its functionality."
      ],
      "metadata": {
        "id": "l9d-98i8XIbY"
      }
    },
    {
      "cell_type": "code",
      "source": [
        "%ls\n",
        "\n",
        "%cd generative-ai/gemini/sample-apps/gemini-streamlit-cloudrun\n",
        "!pip install -r requirements.txt\n",
        "\n",
        "!streamlit run app.py \\\n",
        "  --browser.serverAddress=localhost \\\n",
        "  --browser.gatherUsageStats=false  \\\n",
        "  --server.enableCORS=false \\\n",
        "  --server.enableXsrfProtection=false \\\n",
        "  --server.port 8501"
      ],
      "metadata": {
        "id": "xZDRs3EXXNct"
      },
      "execution_count": null,
      "outputs": []
    },
    {
      "cell_type": "markdown",
      "source": [
        "# Step 6: Build and Deploy the Application to Cloud Run\n",
        "Now, let's deploy the application on Cloud Run.\n",
        "\n",
        "this steps take 4-5 minutes to complete"
      ],
      "metadata": {
        "id": "jl2oRZzbXSMH"
      }
    },
    {
      "cell_type": "code",
      "source": [
        "# Enable the APIs\n",
        "\n",
        "!gcloud services enable run.googleapis.com \\\n",
        "                          artifactregistry.googleapis.com \\\n",
        "                          cloudbuild.googleapis.com \\\n",
        "                          aiplatform.googleapis.com \\\n",
        "                          --project=\"$GCP_PROJECT\"\n",
        "\n",
        "!AR_REPO='gemini-repo' # artifact repo name\n",
        "\n",
        "!SERVICE_NAME='gemini-streamlit-app' # service account name\n",
        "\n",
        "# create repo in artifacts registry\n",
        "!gcloud artifacts repositories create gemini-repo --location=us-central1 --repository-format=Docker\n",
        "\n",
        "# build and push th\n",
        "!gcloud builds submit --tag \"us-central1-docker.pkg.dev/$GCP_PROJECT/gemini-repo/gemini-streamlit-app\""
      ],
      "metadata": {
        "id": "HVWSWBeQXXex"
      },
      "execution_count": null,
      "outputs": []
    },
    {
      "cell_type": "code",
      "source": [
        "# deploy to cloud run\n",
        "\n",
        "!gcloud run deploy gemini-streamlit-app \\\n",
        "  --port=8080 \\\n",
        "  --image=\"us-central1-docker.pkg.dev/$GCP_PROJECT/gemini-repo/gemini-streamlit-app\" \\\n",
        "  --allow-unauthenticated \\\n",
        "  --region=us-central1 \\\n",
        "  --platform=managed  \\\n",
        "  --project=\"$GCP_PROJECT\" \\\n",
        "  --set-env-vars=GCP_PROJECT=\"$GCP_PROJECT\",GCP_REGION=\"$GCP_REGION\""
      ],
      "metadata": {
        "id": "6UsIDfXqyFEp"
      },
      "execution_count": null,
      "outputs": []
    },
    {
      "cell_type": "markdown",
      "source": [
        "\n",
        "# Conclusion\n",
        "\n",
        "Upon successful deployment, you'll receive a URL to access the Cloud Run application.\n",
        "\n",
        "This application demonstrates how to integrate and utilize the Vertex AI Gemini API within a Streamlit application, showcasing Google Cloud's capabilities for hosting AI-powered applications.\n",
        "\n",
        "Remember to replace placeholders like **'your-project-id'** and **'your-region'** with actual values from your Google Cloud project."
      ],
      "metadata": {
        "id": "qyozLAhZXhbm"
      }
    },
    {
      "cell_type": "markdown",
      "source": [
        "**Clean Up Step**  \n",
        "# Clean up the resoruces"
      ],
      "metadata": {
        "id": "8Y1kFaIOMl8Z"
      }
    },
    {
      "cell_type": "code",
      "source": [
        "\n",
        "#Remember to replace placeholders like 'your-project-id' and 'your-region' with actual values from your Google Cloud project.\n",
        "\n",
        "# Delete a Cloud Run service\n",
        "!gcloud run services list\n",
        "\n",
        "# Delete a Cloud Run service\n",
        "#!gcloud run services delete [SERVICE-NAME] --region [REGION] --platform managed\n",
        "!gcloud run services delete gemini-streamlit-app --region us-central1 --platform managed\n",
        "\n",
        "\n",
        "# List images in Artifact registry\n",
        "!gcloud artifacts repositories list\n",
        "\n",
        "# List images in a repository\n",
        "!gcloud artifacts docker images list us-central1-docker.pkg.dev/$GCP_PROJECT/gemini-repo\n",
        "\n",
        "# Delete an image\n",
        "!gcloud artifacts docker images delete us-central1-docker.pkg.dev/$GCP_PROJECT/gemini-repo/gemini-streamlit-app\n",
        "\n",
        "# List images in a repository\n",
        "#!gcloud artifacts docker images list us-central1-docker.pkg.dev/your-project-id/gemini-repo\n",
        "\n",
        "# Delete an Artifact Registry repository\n",
        "!gcloud artifacts repositories delete gemini-repo --location=us-central1 --quiet\n",
        "\n",
        "#disable APIs - Cloud Run, Artifact Registry, and Cloud Build APIs for your project by running the following command:\n",
        "!gcloud services disable run.googleapis.com artifactregistry.googleapis.com cloudbuild.googleapis.com --project=$GCP_PROJECT"
      ],
      "metadata": {
        "id": "OBfEo-ZwUxJW"
      },
      "execution_count": null,
      "outputs": []
    }
  ]
}